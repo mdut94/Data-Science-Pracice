{
 "cells": [
  {
   "cell_type": "markdown",
   "metadata": {},
   "source": [
    "# Project Description\n",
    "\n",
    "This is a project for forecasting growth of investment after a period of some years say after 10 years if data growth pattern remains same."
   ]
  },
  {
   "cell_type": "markdown",
   "metadata": {},
   "source": [
    "## Important imports"
   ]
  },
  {
   "cell_type": "code",
   "execution_count": 1,
   "metadata": {},
   "outputs": [],
   "source": [
    "import numpy as np\n",
    "import pandas as pd\n",
    "import matplotlib.pyplot as plt\n",
    "import seaborn as sns\n",
    "%matplotlib inline"
   ]
  },
  {
   "cell_type": "code",
   "execution_count": 2,
   "metadata": {},
   "outputs": [],
   "source": [
    "df = pd.read_csv('investment-growth-forcast.csv')"
   ]
  },
  {
   "cell_type": "code",
   "execution_count": 3,
   "metadata": {},
   "outputs": [
    {
     "data": {
      "text/html": [
       "<div>\n",
       "<style scoped>\n",
       "    .dataframe tbody tr th:only-of-type {\n",
       "        vertical-align: middle;\n",
       "    }\n",
       "\n",
       "    .dataframe tbody tr th {\n",
       "        vertical-align: top;\n",
       "    }\n",
       "\n",
       "    .dataframe thead th {\n",
       "        text-align: right;\n",
       "    }\n",
       "</style>\n",
       "<table border=\"1\" class=\"dataframe\">\n",
       "  <thead>\n",
       "    <tr style=\"text-align: right;\">\n",
       "      <th></th>\n",
       "      <th>Deposit</th>\n",
       "      <th>Months</th>\n",
       "      <th>PFT_Perc</th>\n",
       "      <th>PFT</th>\n",
       "      <th>Investment</th>\n",
       "    </tr>\n",
       "  </thead>\n",
       "  <tbody>\n",
       "    <tr>\n",
       "      <th>0</th>\n",
       "      <td>1/5/2016</td>\n",
       "      <td>1</td>\n",
       "      <td>0.05000</td>\n",
       "      <td>12500.0</td>\n",
       "      <td>250000</td>\n",
       "    </tr>\n",
       "    <tr>\n",
       "      <th>1</th>\n",
       "      <td>1/6/2016</td>\n",
       "      <td>2</td>\n",
       "      <td>0.05100</td>\n",
       "      <td>12750.0</td>\n",
       "      <td>250000</td>\n",
       "    </tr>\n",
       "    <tr>\n",
       "      <th>2</th>\n",
       "      <td>1/7/2016</td>\n",
       "      <td>3</td>\n",
       "      <td>0.07000</td>\n",
       "      <td>14000.0</td>\n",
       "      <td>200000</td>\n",
       "    </tr>\n",
       "    <tr>\n",
       "      <th>3</th>\n",
       "      <td>1/8/2016</td>\n",
       "      <td>4</td>\n",
       "      <td>0.03000</td>\n",
       "      <td>6000.0</td>\n",
       "      <td>200000</td>\n",
       "    </tr>\n",
       "    <tr>\n",
       "      <th>4</th>\n",
       "      <td>1/9/2016</td>\n",
       "      <td>5</td>\n",
       "      <td>0.05378</td>\n",
       "      <td>10756.0</td>\n",
       "      <td>200000</td>\n",
       "    </tr>\n",
       "  </tbody>\n",
       "</table>\n",
       "</div>"
      ],
      "text/plain": [
       "    Deposit  Months  PFT_Perc      PFT  Investment\n",
       "0  1/5/2016       1   0.05000  12500.0      250000\n",
       "1  1/6/2016       2   0.05100  12750.0      250000\n",
       "2  1/7/2016       3   0.07000  14000.0      200000\n",
       "3  1/8/2016       4   0.03000   6000.0      200000\n",
       "4  1/9/2016       5   0.05378  10756.0      200000"
      ]
     },
     "execution_count": 3,
     "metadata": {},
     "output_type": "execute_result"
    }
   ],
   "source": [
    "df.head()"
   ]
  },
  {
   "cell_type": "markdown",
   "metadata": {},
   "source": [
    "**Column names explained**\n",
    "* Deposit : This column shows the date of the investment\n",
    "* Months : These are total months\n",
    "* PFT_Perc : This is the percentage of the profit earned\n",
    "* PFT \t: This gives the total profit earned on the investment\n",
    "* Investment : Total investment for the month"
   ]
  },
  {
   "cell_type": "code",
   "execution_count": 4,
   "metadata": {},
   "outputs": [
    {
     "name": "stdout",
     "output_type": "stream",
     "text": [
      "<class 'pandas.core.frame.DataFrame'>\n",
      "RangeIndex: 19 entries, 0 to 18\n",
      "Data columns (total 5 columns):\n",
      "Deposit       19 non-null object\n",
      "Months        19 non-null int64\n",
      "PFT_Perc      19 non-null float64\n",
      "PFT           19 non-null float64\n",
      "Investment    19 non-null int64\n",
      "dtypes: float64(2), int64(2), object(1)\n",
      "memory usage: 840.0+ bytes\n"
     ]
    }
   ],
   "source": [
    "df.info()"
   ]
  },
  {
   "cell_type": "markdown",
   "metadata": {},
   "source": [
    "### Some basic questions\n",
    "Which months are have top 5 highest percentage profit earning?"
   ]
  },
  {
   "cell_type": "code",
   "execution_count": 5,
   "metadata": {},
   "outputs": [
    {
     "data": {
      "text/html": [
       "<div>\n",
       "<style scoped>\n",
       "    .dataframe tbody tr th:only-of-type {\n",
       "        vertical-align: middle;\n",
       "    }\n",
       "\n",
       "    .dataframe tbody tr th {\n",
       "        vertical-align: top;\n",
       "    }\n",
       "\n",
       "    .dataframe thead th {\n",
       "        text-align: right;\n",
       "    }\n",
       "</style>\n",
       "<table border=\"1\" class=\"dataframe\">\n",
       "  <thead>\n",
       "    <tr style=\"text-align: right;\">\n",
       "      <th></th>\n",
       "      <th>Deposit</th>\n",
       "      <th>Months</th>\n",
       "      <th>PFT_Perc</th>\n",
       "      <th>PFT</th>\n",
       "      <th>Investment</th>\n",
       "    </tr>\n",
       "  </thead>\n",
       "  <tbody>\n",
       "    <tr>\n",
       "      <th>2</th>\n",
       "      <td>1/7/2016</td>\n",
       "      <td>3</td>\n",
       "      <td>0.07000</td>\n",
       "      <td>14000.0</td>\n",
       "      <td>200000</td>\n",
       "    </tr>\n",
       "    <tr>\n",
       "      <th>4</th>\n",
       "      <td>1/9/2016</td>\n",
       "      <td>5</td>\n",
       "      <td>0.05378</td>\n",
       "      <td>10756.0</td>\n",
       "      <td>200000</td>\n",
       "    </tr>\n",
       "    <tr>\n",
       "      <th>1</th>\n",
       "      <td>1/6/2016</td>\n",
       "      <td>2</td>\n",
       "      <td>0.05100</td>\n",
       "      <td>12750.0</td>\n",
       "      <td>250000</td>\n",
       "    </tr>\n",
       "    <tr>\n",
       "      <th>6</th>\n",
       "      <td>1/11/2016</td>\n",
       "      <td>7</td>\n",
       "      <td>0.05010</td>\n",
       "      <td>10020.0</td>\n",
       "      <td>200000</td>\n",
       "    </tr>\n",
       "    <tr>\n",
       "      <th>0</th>\n",
       "      <td>1/5/2016</td>\n",
       "      <td>1</td>\n",
       "      <td>0.05000</td>\n",
       "      <td>12500.0</td>\n",
       "      <td>250000</td>\n",
       "    </tr>\n",
       "  </tbody>\n",
       "</table>\n",
       "</div>"
      ],
      "text/plain": [
       "     Deposit  Months  PFT_Perc      PFT  Investment\n",
       "2   1/7/2016       3   0.07000  14000.0      200000\n",
       "4   1/9/2016       5   0.05378  10756.0      200000\n",
       "1   1/6/2016       2   0.05100  12750.0      250000\n",
       "6  1/11/2016       7   0.05010  10020.0      200000\n",
       "0   1/5/2016       1   0.05000  12500.0      250000"
      ]
     },
     "execution_count": 5,
     "metadata": {},
     "output_type": "execute_result"
    }
   ],
   "source": [
    "df.sort_values(by='PFT_Perc' , ascending=False).head(5)"
   ]
  },
  {
   "cell_type": "markdown",
   "metadata": {},
   "source": [
    "What are the bottom 3 months for total profit earning?"
   ]
  },
  {
   "cell_type": "code",
   "execution_count": 6,
   "metadata": {},
   "outputs": [
    {
     "data": {
      "text/html": [
       "<div>\n",
       "<style scoped>\n",
       "    .dataframe tbody tr th:only-of-type {\n",
       "        vertical-align: middle;\n",
       "    }\n",
       "\n",
       "    .dataframe tbody tr th {\n",
       "        vertical-align: top;\n",
       "    }\n",
       "\n",
       "    .dataframe thead th {\n",
       "        text-align: right;\n",
       "    }\n",
       "</style>\n",
       "<table border=\"1\" class=\"dataframe\">\n",
       "  <thead>\n",
       "    <tr style=\"text-align: right;\">\n",
       "      <th></th>\n",
       "      <th>Deposit</th>\n",
       "      <th>Months</th>\n",
       "      <th>PFT_Perc</th>\n",
       "      <th>PFT</th>\n",
       "      <th>Investment</th>\n",
       "    </tr>\n",
       "  </thead>\n",
       "  <tbody>\n",
       "    <tr>\n",
       "      <th>3</th>\n",
       "      <td>1/8/2016</td>\n",
       "      <td>4</td>\n",
       "      <td>0.03</td>\n",
       "      <td>6000.0</td>\n",
       "      <td>200000</td>\n",
       "    </tr>\n",
       "    <tr>\n",
       "      <th>5</th>\n",
       "      <td>1/10/2016</td>\n",
       "      <td>6</td>\n",
       "      <td>0.03</td>\n",
       "      <td>6000.0</td>\n",
       "      <td>200000</td>\n",
       "    </tr>\n",
       "    <tr>\n",
       "      <th>7</th>\n",
       "      <td>1/12/2016</td>\n",
       "      <td>8</td>\n",
       "      <td>0.03</td>\n",
       "      <td>7500.0</td>\n",
       "      <td>250000</td>\n",
       "    </tr>\n",
       "  </tbody>\n",
       "</table>\n",
       "</div>"
      ],
      "text/plain": [
       "     Deposit  Months  PFT_Perc     PFT  Investment\n",
       "3   1/8/2016       4      0.03  6000.0      200000\n",
       "5  1/10/2016       6      0.03  6000.0      200000\n",
       "7  1/12/2016       8      0.03  7500.0      250000"
      ]
     },
     "execution_count": 6,
     "metadata": {},
     "output_type": "execute_result"
    }
   ],
   "source": [
    "df.sort_values(by='PFT', ascending=True).head(3)"
   ]
  },
  {
   "cell_type": "code",
   "execution_count": null,
   "metadata": {},
   "outputs": [],
   "source": []
  }
 ],
 "metadata": {
  "kernelspec": {
   "display_name": "Python 3",
   "language": "python",
   "name": "python3"
  },
  "language_info": {
   "codemirror_mode": {
    "name": "ipython",
    "version": 3
   },
   "file_extension": ".py",
   "mimetype": "text/x-python",
   "name": "python",
   "nbconvert_exporter": "python",
   "pygments_lexer": "ipython3",
   "version": "3.7.3"
  }
 },
 "nbformat": 4,
 "nbformat_minor": 2
}
